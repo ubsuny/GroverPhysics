{
 "cells": [
  {
   "cell_type": "markdown",
   "id": "932668b6-1ae3-4093-a4be-11c869bc6faf",
   "metadata": {},
   "source": [
    "## Grover's Algorithm\n",
    "\n",
    "This notebook serves to implement Grover's Algorithm in a Jupyter Notebook. Grover's Algorithm is known as the quantum search algorithm. It is used to find a unique input to a black box function that produces a particular output value, or set of output values. Here we are creating a two qubit algorithm, but higher level algorithms are possible.\n",
    "\n"
   ]
  },
  {
   "cell_type": "markdown",
   "id": "80905d96-7b36-46b9-a22a-3449abb15823",
   "metadata": {},
   "source": [
    "### Imports\n",
    "\n",
    "First, we begin with a series of import statements. We need a number of general Python tools for plotting and analysis. We also need a number of tools from qiskit to create, run, and visualize our quantum circuit. "
   ]
  },
  {
   "cell_type": "code",
   "execution_count": 2,
   "id": "d2420e54-a40c-4af1-bc64-056db1093486",
   "metadata": {},
   "outputs": [],
   "source": [
    "# Python Tools\n",
    "\n",
    "import matplotlib.pyplot as plt\n",
    "import numpy as np\n",
    "import time\n",
    "import math\n",
    "\n",
    "# Qiskit Tools\n",
    "\n",
    "from qiskit import IBMQ, Aer, QuantumCircuit, ClassicalRegister, QuantumRegister, execute, transpile\n",
    "from qiskit.providers.ibmq import least_busy\n",
    "from qiskit.visualization import plot_histogram\n",
    "from qiskit.providers.aer import QasmSimulator\n",
    "from qiskit.tools.visualization import circuit_drawer\n",
    "from qiskit.tools.monitor import job_monitor, backend_monitor, backend_overview\n",
    "from qiskit.providers.aer import noise"
   ]
  },
  {
   "cell_type": "code",
   "execution_count": 4,
   "id": "f2816259-1580-4194-9124-e74c8047cb6c",
   "metadata": {},
   "outputs": [],
   "source": [
    "# Set devices, if using a real device\n",
    "IBMQ.delete_account()\n",
    "IBMQ.save_account('d00e72d0bbc735574fb78465bd57a50312ca78cee1848c7b07f56dc0e0615421558991bfac0726ef01ac478850653165c35f9b7c8896042a39238c865a0ee742')\n",
    "IBMQ.load_account()\n",
    "\n",
    "provider = IBMQ.get_provider('ibm-q')\n",
    "quito = provider.get_backend('ibmq_santiago')\n",
    "\n"
   ]
  },
  {
   "cell_type": "markdown",
   "id": "4d89e6f7-6521-494b-a7e4-bc5714339933",
   "metadata": {},
   "source": [
    "### Creating the Circuit\n",
    "\n",
    "Now that the imports are complete, we want to initialize our quantum circuit. In this circuit, we want to make a state for the algorithm to recover. We begin by intitializing a two qubit circuit sent into a superposition by two Haddamard gates."
   ]
  },
  {
   "cell_type": "code",
   "execution_count": 5,
   "id": "edc7ec5b-4c66-4b6f-9fc6-f18f6768cf23",
   "metadata": {},
   "outputs": [
    {
     "data": {
      "text/plain": [
       "<qiskit.circuit.instructionset.InstructionSet at 0x7f25eb8bf4f0>"
      ]
     },
     "execution_count": 5,
     "metadata": {},
     "output_type": "execute_result"
    }
   ],
   "source": [
    "#Create and set up the intial circuit\n",
    "qreg_q = QuantumRegister(2, 'q')\n",
    "creg_c = ClassicalRegister(2, 'c')\n",
    "grover_circ = QuantumCircuit(qreg_q, creg_c)\n",
    "grover_circ.h([0,1])"
   ]
  },
  {
   "cell_type": "code",
   "execution_count": 6,
   "id": "0dd1dbea-3ab4-4859-9347-b512c4ffb817",
   "metadata": {},
   "outputs": [
    {
     "data": {
      "image/png": "[encoded data removed]",
      "text/plain": [
       "<Figure size 146.652x204.68 with 1 Axes>"
      ]
     },
     "execution_count": 6,
     "metadata": {},
     "output_type": "execute_result"
    }
   ],
   "source": [
    "#Visualize the circuit\n",
    "grover_circ.draw()"
   ]
  },
  {
   "cell_type": "markdown",
   "id": "b805818a-e2fa-47ca-961a-8c54b858d49f",
   "metadata": {},
   "source": [
    "### Applying the Oracle Matrix and the Diffuser\n",
    "\n",
    "Now we need to add the components onto this circuit to make it function as a two qubit Grover's Algorithm. These components are the Oracle Matrix and the Diffuser. Starting with the Oracle Matrix, which in our case is a CZ gate:"
   ]
  },
  {
   "cell_type": "code",
   "execution_count": 7,
   "id": "7fe5211c-0e52-4d1c-bb2e-2533582f0478",
   "metadata": {},
   "outputs": [
    {
     "data": {
      "text/plain": [
       "<qiskit.circuit.instructionset.InstructionSet at 0x7f25eb96f4c0>"
      ]
     },
     "execution_count": 7,
     "metadata": {},
     "output_type": "execute_result"
    }
   ],
   "source": [
    "# Create the CZ gate\n",
    "\n",
    "grover_circ.cz(0,1)"
   ]
  },
  {
   "cell_type": "code",
   "execution_count": 8,
   "id": "57dbbca0-ef00-4a02-b0b0-f9f54790bdd4",
   "metadata": {},
   "outputs": [
    {
     "data": {
      "text/plain": [
       "<qiskit.circuit.instructionset.InstructionSet at 0x7f25eb5ffe50>"
      ]
     },
     "execution_count": 8,
     "metadata": {},
     "output_type": "execute_result"
    }
   ],
   "source": [
    "#Apply the Diffuser\n",
    "\n",
    "grover_circ.h([0,1])\n",
    "grover_circ.z([0,1])\n",
    "grover_circ.cz(0,1)\n",
    "grover_circ.h([0,1])"
   ]
  },
  {
   "cell_type": "code",
   "execution_count": 11,
   "id": "a70b9f94-4542-4e19-ae4a-1c0f68d3ee55",
   "metadata": {},
   "outputs": [
    {
     "data": {
      "text/plain": [
       "<qiskit.circuit.instructionset.InstructionSet at 0x7f25eb510790>"
      ]
     },
     "execution_count": 11,
     "metadata": {},
     "output_type": "execute_result"
    }
   ],
   "source": [
    "# Add Measurements\n",
    "\n",
    "grover_circ.measure(qreg_q[0], creg_c[0])\n",
    "grover_circ.measure(qreg_q[1], creg_c[1])"
   ]
  },
  {
   "cell_type": "code",
   "execution_count": 12,
   "id": "c0ac3eb1-8d92-42cc-8c83-bc756b5db385",
   "metadata": {},
   "outputs": [
    {
     "data": {
      "image/png": "[encoded data removed]",
      "text/plain": [
       "<Figure size 568.052x204.68 with 1 Axes>"
      ]
     },
     "execution_count": 12,
     "metadata": {},
     "output_type": "execute_result"
    }
   ],
   "source": [
    "grover_circ.draw()"
   ]
  },
  {
   "cell_type": "markdown",
   "id": "602d7228-8440-4af2-afad-8f4d970a40c0",
   "metadata": {},
   "source": [
    "### Running the Circuit\n",
    "\n",
    "Now that the circuit is properly set up, we can run it on a quantum computer. We use the tools and settings that we imported and initialized at the beginning of the notebook to now run this circuit on an IBM quantum computer 1024 times. This should give us a good idea of the actual results of the measurement."
   ]
  },
  {
   "cell_type": "code",
   "execution_count": 13,
   "id": "9588c4d0-4887-45af-b092-c1f96c332c8b",
   "metadata": {},
   "outputs": [
    {
     "name": "stdout",
     "output_type": "stream",
     "text": [
      "Job Status: job has successfully run\n"
     ]
    }
   ],
   "source": [
    "# Execute and get counts\n",
    "\n",
    "job = execute(grover_circ, backend = quito, shots = 1024, optimization_level = 3)\n",
    "from qiskit.tools.monitor import job_monitor\n",
    "job_monitor(job, interval = 2)"
   ]
  },
  {
   "cell_type": "code",
   "execution_count": 14,
   "id": "ecdb7a2e-641e-402f-9eb3-3d72f8f1723f",
   "metadata": {},
   "outputs": [
    {
     "name": "stdout",
     "output_type": "stream",
     "text": [
      "{'00': 10, '01': 29, '10': 35, '11': 950}\n"
     ]
    }
   ],
   "source": [
    "result = job.result()\n",
    "counts = result.get_counts(grover_circ)\n",
    "print(counts)"
   ]
  },
  {
   "cell_type": "markdown",
   "id": "f18ed6da-a0eb-4abe-95fe-b830a2a7a2f9",
   "metadata": {},
   "source": [
    "## Results\n",
    "\n",
    "Here we can plot the results of our quantum circuit, and we see that the majority of the shots resulted in the correct measurement of 11. The other outcomes are due to external effects and noise which disrupts the quantum computer's accuracy. Given the fact that we ran this circuit 1024 times, we can see a clear trend. If we were to have run this fewer times, the results may have been less clear. Equally, this circuit can always be run a larger number of times in an attempt to validate the results further."
   ]
  },
  {
   "cell_type": "code",
   "execution_count": 15,
   "id": "29c2c65c-f5ab-4d98-b655-413955826d3f",
   "metadata": {},
   "outputs": [
    {
     "data": {
      "image/png": "[encoded data removed]",
      "text/plain": [
       "<Figure size 504x360 with 1 Axes>"
      ]
     },
     "execution_count": 15,
     "metadata": {},
     "output_type": "execute_result"
    }
   ],
   "source": [
    "plot_histogram(counts)"
   ]
  },
  {
   "cell_type": "code",
   "execution_count": 1,
   "id": "f14e1281-f2d2-4d9d-a87e-bf98e2e8bd0d",
   "metadata": {},
   "outputs": [],
   "source": [
    "# Initialize a quantum circuit with a Haddamard Gate\n",
    "\n",
    "def initial(Circ, Qubits):\n",
    "    \"\"\"Initializes the circuit into a superposition with a Haddamard gate on each qubit. Takes a circuit and the qubits of the circuit.\"\"\"\n",
    "    for i in Qubits:\n",
    "        Circ.h(i)\n",
    "    return Circ\n",
    "\n",
    "# Apply the oracle matrix to the circuit\n",
    "\n",
    "def oracle(Circ, Qubits):\n",
    "    \"\"\"Applies the Oracle matrix to the circuit. In our case, this is the controlled z gate onto each qubit. Takes a circuit and the qubits of the circuit.\"\"\"\n",
    "    for i in Qubits:\n",
    "        Circ.cz(i)\n",
    "    return Circ\n",
    "\n",
    "# Apply the diffuser to the matrix\n",
    "\n",
    "def diffuse(Circ, Qubits):\n",
    "    \"\"\"Applies the diffuser onto the circuit. In our case, this is a Haddamard, z, controlled z, and then a Haddamard gate in succession. Takes a circuit and the qubits of the circuit.\"\"\"\n",
    "    for i in Qubits:\n",
    "        Circ.h(i)\n",
    "        Circ.z(i)\n",
    "        Circ.cz(i)\n",
    "        Circ.h(i)\n",
    "    return Circ\n",
    "\n",
    "# Apply the diffuser matrix a number of times equal to the Loops argument\n",
    "\n",
    "def applyDiffuser(Circ, Qubits, Loops):\n",
    "    \"\"\"Applies the diffuser onto the circuit for a given number of loops. Takes the loop count, a circuit and the qubits of the circuit.\"\"\"\n",
    "    for i in Loops:\n",
    "        diffuse(Circ, Qubits)\n",
    "    return Circ"
   ]
  },
  {
   "cell_type": "code",
   "execution_count": null,
   "id": "87f81891-0e1e-4eb9-b53a-43d3e4f22e25",
   "metadata": {},
   "outputs": [],
   "source": []
  }
 ],
 "metadata": {
  "kernelspec": {
   "display_name": "Qiskit v0.31.0 (ipykernel)",
   "language": "python",
   "name": "python3"
  },
  "language_info": {
   "codemirror_mode": {
    "name": "ipython",
    "version": 3
   },
   "file_extension": ".py",
   "mimetype": "text/x-python",
   "name": "python",
   "nbconvert_exporter": "python",
   "pygments_lexer": "ipython3",
   "version": "3.8.10"
  },
  "widgets": {
   "application/vnd.jupyter.widget-state+json": {
    "state": {},
    "version_major": 2,
    "version_minor": 0
   }
  }
 },
 "nbformat": 4,
 "nbformat_minor": 5
}
