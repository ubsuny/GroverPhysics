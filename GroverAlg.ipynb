{
 "cells": [
  {
   "cell_type": "markdown",
   "id": "932668b6-1ae3-4093-a4be-11c869bc6faf",
   "metadata": {
    "tags": []
   },
   "source": [
    "# Grover's Algorithm\n",
    "\n",
    "This notebook serves to implement Grover's Algorithm in a Jupyter Notebook. Grover's Algorithm is known as the quantum search algorithm. It is used to find a unique input to a black box function that produces a particular output value, or set of output values. Here we are creating a two qubit algorithm, but higher level algorithms are possible."
   ]
  },
  {
   "cell_type": "markdown",
   "id": "77256fa4-8254-490b-abd3-4883776ab9df",
   "metadata": {},
   "source": [
    "## Physical Background\n",
    "\n",
    "Grover's Algorithm, known as the \"Quantum Search Algorithm\", is exactly what its name entails: a search algorithm that utilizes the special rules of quantum mechanics to acheive its goal. Specifically, it is an unstructured search algorithm. This means that the database that it searches through does not need to be set up in a specific way.\n",
    "\n",
    "Ordinarily, this kind of algorithm would take a classical computer $O(N)$ computations to complete. However, Grover's Algorithm takes only $O(\\sqrt{N})$ computations. This is achieved through the use of superpositional states, a concept unique to quantum computers. To put this in perspective, if it would take a classical computer $10,000$, or $1 x 10^4$, computations to find the correct state, it would only take a quantum computer $100$, or $1 x 10^2$, computations. [1]"
   ]
  },
  {
   "cell_type": "markdown",
   "id": "3dbd6401-eff6-4f33-b1d6-95bda5dcc9a3",
   "metadata": {},
   "source": [
    "### Breakdown of the Algorithm\n",
    "\n",
    "Grover's Algorithm is split into three main components. The first component is the intitial split into a superposition. This is what gives the algorithm its fast computation time, and it is accomplished on our circuit by a Hadamard gate on each qubit.\n",
    "\n",
    "Following this is the Oracle matrix. The Oracle matrix serves to isolate the desired state, in our case this state is |11>. The way that this is accomplished is by the fact that the eigenvalue of the desired state is $-1$, while the eigenvalues of all other states is $1$. The oracle matrix then will assign a negative phase to the desired state, isolating it from the rest of the possible states. [1]\n",
    "\n",
    "Next, the diffuser is applied. The diffuser serves to amplify the probability by rotating the superposition state closer to the desired state. One can represent this in a 2D plane with bases $|d>$, the desired state, and $|s'>$ the state perpendicular to the desired state. The superposition state $|s>$ is somewhere between these two in the plot. The Oracle matrix serves to reflec $|s>$ across the $s'$ axis, corresponding to the negative phase that it assigns. Then, the diffuser will reflect this new state across the original state much closer to $|d>$. Step-by-step, this process will bring the superposition state closer to the desired state, until it finally reaches it and is measured to obtain the correct result. [1]"
   ]
  },
  {
   "cell_type": "markdown",
   "id": "b6a9425c-7900-408a-af02-1fa3f9ff2067",
   "metadata": {},
   "source": [
    "## Implementation\n",
    "\n",
    "Now that we know some of the physical background behind Grover's Algorithm, we can now make a simple example of it on a quantum circuit to later be run on one of IBM's open source quantum computers. "
   ]
  },
  {
   "cell_type": "markdown",
   "id": "2ac01940-b613-4a1d-9733-2a16dc690b4a",
   "metadata": {},
   "source": [
    "First we are going to enable automatic linting to ensure the code is well written."
   ]
  },
  {
   "cell_type": "code",
   "execution_count": 1,
   "id": "f60f909e-0c83-4194-b3db-be06f9943da8",
   "metadata": {},
   "outputs": [],
   "source": [
    "%load_ext pycodestyle_magic\n",
    "%pycodestyle_on"
   ]
  },
  {
   "cell_type": "markdown",
   "id": "80905d96-7b36-46b9-a22a-3449abb15823",
   "metadata": {},
   "source": [
    "### Imports\n",
    "\n",
    "First, we begin with a series of import statements. We need a number of general Python tools for plotting and analysis. We also need a number of tools from qiskit to create, run, and visualize our quantum circuit. "
   ]
  },
  {
   "cell_type": "code",
   "execution_count": 2,
   "id": "d2420e54-a40c-4af1-bc64-056db1093486",
   "metadata": {},
   "outputs": [],
   "source": [
    "# Python Tools\n",
    "\n",
    "import matplotlib.pyplot as plt\n",
    "import numpy as np\n",
    "import time\n",
    "import math\n",
    "\n",
    "# Qiskit Tools\n",
    "\n",
    "from qiskit import IBMQ, Aer, QuantumCircuit, ClassicalRegister\n",
    "from qiskit import QuantumRegister, execute, transpile\n",
    "from qiskit.providers.ibmq import least_busy\n",
    "from qiskit.visualization import plot_histogram\n",
    "from qiskit.providers.aer import QasmSimulator\n",
    "from qiskit.tools.visualization import circuit_drawer\n",
    "from qiskit.tools.monitor import job_monitor, backend_monitor, backend_overview\n",
    "from qiskit.providers.aer import noise"
   ]
  },
  {
   "cell_type": "code",
   "execution_count": 3,
   "id": "f2816259-1580-4194-9124-e74c8047cb6c",
   "metadata": {},
   "outputs": [
    {
     "name": "stderr",
     "output_type": "stream",
     "text": [
      "3:80: E501 line too long (153 > 79 characters)\n"
     ]
    }
   ],
   "source": [
    "# Set devices, if using a real device. Add your API key as a string into the save account argument\n",
    "IBMQ.delete_account()\n",
    "IBMQ.save_account()\n",
    "IBMQ.load_account()\n",
    "\n",
    "provider = IBMQ.get_provider('ibm-q')\n",
    "quito = provider.get_backend('ibmq_belem')"
   ]
  },
  {
   "cell_type": "markdown",
   "id": "4d89e6f7-6521-494b-a7e4-bc5714339933",
   "metadata": {
    "tags": []
   },
   "source": [
    "### Creating the Circuit\n",
    "\n",
    "Now that the imports are complete, we want to initialize our quantum circuit. First, a few useful functions for creating our circuit elements are defined. We want to be able to inititalize our circuit, add an oracle matrix, and add a diffuser. It is also useful to have a function for repeatedly adding these circuit elements if we want to loop through the oracle matrix and diffuser. In this circuit, we want to make a state for the algorithm to recover. We begin by intitializing a two qubit circuit sent into a superposition by two Hadamard gates."
   ]
  },
  {
   "cell_type": "code",
   "execution_count": 21,
   "id": "7a682416-e3d3-457c-b17b-521b17704afa",
   "metadata": {},
   "outputs": [],
   "source": [
    "# Initialize a quantum circuit with a Hadamard Gate\n",
    "\n",
    "\n",
    "def initial(Circ, Qubits):\n",
    "    \"\"\"Initializes the quantum circuit into a superposition\n",
    "    with a Hadamard gate on each qubit. Takes a circuit and\n",
    "    the qubits of the circuit as args.\n",
    "    \"\"\"\n",
    "    for i in Qubits:\n",
    "        Circ.h(i)\n",
    "    return Circ\n",
    "\n",
    "\n",
    "# Apply the oracle matrix to the circuit\n",
    "\n",
    "\n",
    "def oracle(Circ, Qubits):\n",
    "    \"\"\"Applies the Oracle matrix to the quantum circuit.\n",
    "    In our case, this is the controlled z gate onto each qubit.\n",
    "    Takes a quantum circuit and the qubits of the circuit as args.\n",
    "    \"\"\"\n",
    "    Circ.cz(Qubits[0], Qubits[1])\n",
    "    return Circ\n",
    "\n",
    "\n",
    "# Apply the diffuser to the matrix\n",
    "\n",
    "\n",
    "def diffuse(Circ, Qubits):\n",
    "    \"\"\"Applies the diffuser onto the quantum circuit.\n",
    "    In our case, this is a Hadamard, z , controlled z,\n",
    "    and then another Hadamard gate in succession.\n",
    "    Takes a quantum circuit and the qubits of the circuit as args.\n",
    "    \"\"\"\n",
    "    for i in Qubits:\n",
    "        Circ.h(i)\n",
    "        Circ.z(i)\n",
    "    oracle(Circ, Qubits)\n",
    "    initial(Circ, Qubits)\n",
    "    return Circ\n",
    "\n",
    "\n",
    "# Apply the diffuser matrix a number of times equal to the Loops argument\n",
    "\n",
    "\n",
    "def applyAmp(Circ, Qubits, Loops):\n",
    "    \"\"\"Applies the Oracle matrix and then the diffuser onto\n",
    "    the quantum circuit a given number of times.\n",
    "    Takes the loop count, a quantum circuit,\n",
    "    and the qubits of the circuit as args.\"\"\"\n",
    "    for i in range(0, Loops):\n",
    "        initial(Circ, Qubits)\n",
    "        oracle(Circ, Qubits)\n",
    "        diffuse(Circ, Qubits)\n",
    "    return Circ\n",
    "\n",
    "\n",
    "# Remove the measurement gates\n",
    "\n",
    "\n",
    "def removeGates(Circ, num):\n",
    "    \"\"\"Removes a number of gates from the given quantum circuit\n",
    "    equal to the number given\"\"\"\n",
    "    for i in range(0, num):\n",
    "        Circ.data.pop()"
   ]
  },
  {
   "cell_type": "code",
   "execution_count": 5,
   "id": "edc7ec5b-4c66-4b6f-9fc6-f18f6768cf23",
   "metadata": {},
   "outputs": [
    {
     "data": {
      "text/plain": [
       "<qiskit.circuit.quantumcircuit.QuantumCircuit at 0x7f8cba4cf7f0>"
      ]
     },
     "execution_count": 5,
     "metadata": {},
     "output_type": "execute_result"
    }
   ],
   "source": [
    "# Create and set up the intial circuit\n",
    "\n",
    "qreg_q = QuantumRegister(2, 'q')\n",
    "creg_c = ClassicalRegister(2, 'c')\n",
    "grover_circ = QuantumCircuit(qreg_q, creg_c)\n",
    "qubits = [0, 1]\n",
    "\n",
    "initial(grover_circ, qubits)"
   ]
  },
  {
   "cell_type": "code",
   "execution_count": 6,
   "id": "0dd1dbea-3ab4-4859-9347-b512c4ffb817",
   "metadata": {},
   "outputs": [
    {
     "data": {
      "text/html": [
       "<pre style=\"word-wrap: normal;white-space: pre;background: #fff0;line-height: 1.1;font-family: &quot;Courier New&quot;,Courier,monospace\">     ┌───┐\n",
       "q_0: ┤ H ├\n",
       "     ├───┤\n",
       "q_1: ┤ H ├\n",
       "     └───┘\n",
       "c: 2/═════\n",
       "          </pre>"
      ],
      "text/plain": [
       "     ┌───┐\n",
       "q_0: ┤ H ├\n",
       "     ├───┤\n",
       "q_1: ┤ H ├\n",
       "     └───┘\n",
       "c: 2/═════\n",
       "          "
      ]
     },
     "execution_count": 6,
     "metadata": {},
     "output_type": "execute_result"
    }
   ],
   "source": [
    "# Visualize the circuit\n",
    "\n",
    "grover_circ.draw()"
   ]
  },
  {
   "cell_type": "markdown",
   "id": "b805818a-e2fa-47ca-961a-8c54b858d49f",
   "metadata": {},
   "source": [
    "### Applying the Oracle Matrix and the Diffuser\n",
    "\n",
    "Now we need to add the components onto this circuit to make it function as a two qubit Grover's Algorithm. These components are the Oracle Matrix and the Diffuser. The Oracle matrix serves to select the state that we want from the possible states. The diffuser then amplifies the probability of this state. In our case, the Oracle matrix is a controlled z gate, while the diffuser is a Hadamard, z, controlled z, and then another Hadamard gate in succession. These gates will be applied to each qubit. [1]"
   ]
  },
  {
   "cell_type": "code",
   "execution_count": 7,
   "id": "7fe5211c-0e52-4d1c-bb2e-2533582f0478",
   "metadata": {},
   "outputs": [
    {
     "data": {
      "text/plain": [
       "<qiskit.circuit.quantumcircuit.QuantumCircuit at 0x7f8cba4cf7f0>"
      ]
     },
     "execution_count": 7,
     "metadata": {},
     "output_type": "execute_result"
    }
   ],
   "source": [
    "# Create the CZ gate\n",
    "\n",
    "oracle(grover_circ, qubits)"
   ]
  },
  {
   "cell_type": "code",
   "execution_count": 8,
   "id": "358c5b56-b1fb-456e-a558-6362e4760a83",
   "metadata": {},
   "outputs": [
    {
     "data": {
      "text/html": [
       "<pre style=\"word-wrap: normal;white-space: pre;background: #fff0;line-height: 1.1;font-family: &quot;Courier New&quot;,Courier,monospace\">     ┌───┐   \n",
       "q_0: ┤ H ├─■─\n",
       "     ├───┤ │ \n",
       "q_1: ┤ H ├─■─\n",
       "     └───┘   \n",
       "c: 2/════════\n",
       "             </pre>"
      ],
      "text/plain": [
       "     ┌───┐   \n",
       "q_0: ┤ H ├─■─\n",
       "     ├───┤ │ \n",
       "q_1: ┤ H ├─■─\n",
       "     └───┘   \n",
       "c: 2/════════\n",
       "             "
      ]
     },
     "execution_count": 8,
     "metadata": {},
     "output_type": "execute_result"
    }
   ],
   "source": [
    "# Draw the Circuit\n",
    "\n",
    "grover_circ.draw()"
   ]
  },
  {
   "cell_type": "code",
   "execution_count": 9,
   "id": "57dbbca0-ef00-4a02-b0b0-f9f54790bdd4",
   "metadata": {},
   "outputs": [
    {
     "data": {
      "text/plain": [
       "<qiskit.circuit.quantumcircuit.QuantumCircuit at 0x7f8cba4cf7f0>"
      ]
     },
     "execution_count": 9,
     "metadata": {},
     "output_type": "execute_result"
    }
   ],
   "source": [
    "# Apply the Diffuser\n",
    "\n",
    "diffuse(grover_circ, qubits)"
   ]
  },
  {
   "cell_type": "code",
   "execution_count": 10,
   "id": "a70b9f94-4542-4e19-ae4a-1c0f68d3ee55",
   "metadata": {},
   "outputs": [
    {
     "data": {
      "text/plain": [
       "<qiskit.circuit.instructionset.InstructionSet at 0x7f8d04255310>"
      ]
     },
     "execution_count": 10,
     "metadata": {},
     "output_type": "execute_result"
    }
   ],
   "source": [
    "# Add Measurements\n",
    "\n",
    "grover_circ.measure(qreg_q[0], creg_c[0])\n",
    "grover_circ.measure(qreg_q[1], creg_c[1])"
   ]
  },
  {
   "cell_type": "code",
   "execution_count": 11,
   "id": "c0ac3eb1-8d92-42cc-8c83-bc756b5db385",
   "metadata": {},
   "outputs": [
    {
     "data": {
      "text/html": [
       "<pre style=\"word-wrap: normal;white-space: pre;background: #fff0;line-height: 1.1;font-family: &quot;Courier New&quot;,Courier,monospace\">     ┌───┐   ┌───┐┌───┐   ┌───┐┌─┐   \n",
       "q_0: ┤ H ├─■─┤ H ├┤ Z ├─■─┤ H ├┤M├───\n",
       "     ├───┤ │ ├───┤├───┤ │ ├───┤└╥┘┌─┐\n",
       "q_1: ┤ H ├─■─┤ H ├┤ Z ├─■─┤ H ├─╫─┤M├\n",
       "     └───┘   └───┘└───┘   └───┘ ║ └╥┘\n",
       "c: 2/═══════════════════════════╩══╩═\n",
       "                                0  1 </pre>"
      ],
      "text/plain": [
       "     ┌───┐   ┌───┐┌───┐   ┌───┐┌─┐   \n",
       "q_0: ┤ H ├─■─┤ H ├┤ Z ├─■─┤ H ├┤M├───\n",
       "     ├───┤ │ ├───┤├───┤ │ ├───┤└╥┘┌─┐\n",
       "q_1: ┤ H ├─■─┤ H ├┤ Z ├─■─┤ H ├─╫─┤M├\n",
       "     └───┘   └───┘└───┘   └───┘ ║ └╥┘\n",
       "c: 2/═══════════════════════════╩══╩═\n",
       "                                0  1 "
      ]
     },
     "execution_count": 11,
     "metadata": {},
     "output_type": "execute_result"
    }
   ],
   "source": [
    "grover_circ.draw()"
   ]
  },
  {
   "cell_type": "markdown",
   "id": "602d7228-8440-4af2-afad-8f4d970a40c0",
   "metadata": {},
   "source": [
    "### Running the Circuit\n",
    "\n",
    "Now that the circuit is properly set up, we can run it on a quantum computer. We use the tools and settings that we imported and initialized at the beginning of the notebook to now run this circuit on an IBM quantum computer 1024 times. This should give us a good idea of the actual results of the measurement."
   ]
  },
  {
   "cell_type": "code",
   "execution_count": 12,
   "id": "9588c4d0-4887-45af-b092-c1f96c332c8b",
   "metadata": {},
   "outputs": [
    {
     "name": "stdout",
     "output_type": "stream",
     "text": [
      "Job Status: job has successfully run\n"
     ]
    }
   ],
   "source": [
    "# Execute and get counts\n",
    "\n",
    "job = execute(grover_circ, backend=quito, shots=1024, optimization_level=3)\n",
    "job_monitor(job, interval=2)"
   ]
  },
  {
   "cell_type": "code",
   "execution_count": 13,
   "id": "ecdb7a2e-641e-402f-9eb3-3d72f8f1723f",
   "metadata": {},
   "outputs": [
    {
     "name": "stdout",
     "output_type": "stream",
     "text": [
      "{'00': 11, '01': 65, '10': 42, '11': 906}\n"
     ]
    }
   ],
   "source": [
    "result = job.result()\n",
    "counts = result.get_counts(grover_circ)\n",
    "print(counts)"
   ]
  },
  {
   "cell_type": "markdown",
   "id": "f18ed6da-a0eb-4abe-95fe-b830a2a7a2f9",
   "metadata": {},
   "source": [
    "### Results\n",
    "\n",
    "Here we can plot the results of our quantum circuit, and we see that the majority of the shots resulted in the correct measurement of 11. The other outcomes are due to external effects and noise which disrupts the quantum computer's accuracy. Given the fact that we ran this circuit 1024 times, we can see a clear trend. If we were to have run this fewer times, the results may have been less clear. Equally, this circuit can always be run a larger number of times in an attempt to validate the results further."
   ]
  },
  {
   "cell_type": "code",
   "execution_count": 14,
   "id": "29c2c65c-f5ab-4d98-b655-413955826d3f",
   "metadata": {},
   "outputs": [
    {
     "data": {
      "image/png": "[encoded data removed]",
      "text/plain": [
       "<Figure size 504x360 with 1 Axes>"
      ]
     },
     "execution_count": 14,
     "metadata": {},
     "output_type": "execute_result"
    }
   ],
   "source": [
    "plot_histogram(counts)"
   ]
  },
  {
   "cell_type": "markdown",
   "id": "fdf53bb1-2146-4e23-aea7-d41e198ae153",
   "metadata": {},
   "source": [
    "### Multiple Runs\n",
    "\n",
    "We can also utilize the previously defined function applyDiffuser to apply this circuit multiple times. This comes back to what was discussed in the physical background where the circuit may need to be run multiple times in order to reach the desired state. In our case, we only need one iteration of the circuit to obtain our desired result. First, we need to get rid of the measurement gates that we placed in before. We then will use a previously defined function to add the Amplifier (the Oracle matrix and the diffuser) a given number of times."
   ]
  },
  {
   "cell_type": "code",
   "execution_count": 15,
   "id": "af5adc90-6e82-49fd-bb36-1ee99e44eece",
   "metadata": {},
   "outputs": [
    {
     "data": {
      "text/plain": [
       "<qiskit.circuit.quantumcircuit.QuantumCircuit at 0x7f8cba4cf7f0>"
      ]
     },
     "execution_count": 15,
     "metadata": {},
     "output_type": "execute_result"
    }
   ],
   "source": [
    "# Remove the measurement gates\n",
    "\n",
    "removeGates(grover_circ, 2)\n",
    "\n",
    "# Apply the Amplifier 2 times\n",
    "\n",
    "applyAmp(grover_circ, qubits, 2)"
   ]
  },
  {
   "cell_type": "markdown",
   "id": "5038b80b-13bc-46e2-a648-41c06acdced8",
   "metadata": {},
   "source": [
    "### Visualization\n",
    "\n",
    "We can then re-visualize the circuit here by drawing it again. One can notice that it is the first circuit repeated three times. Each time it is initialized, the Oracle matrix is applied, and the diffuser is applied. We then add back on the measurement gates so that we can obtain the data from this circuit."
   ]
  },
  {
   "cell_type": "code",
   "execution_count": 16,
   "id": "7e03e518-e6bd-4e64-9b7f-0f6db19079d5",
   "metadata": {},
   "outputs": [
    {
     "data": {
      "text/html": [
       "<pre style=\"word-wrap: normal;white-space: pre;background: #fff0;line-height: 1.1;font-family: &quot;Courier New&quot;,Courier,monospace\">     ┌───┐   ┌───┐┌───┐   ┌───┐┌───┐   ┌───┐┌───┐   ┌───┐┌───┐   ┌───┐┌───┐   »\n",
       "q_0: ┤ H ├─■─┤ H ├┤ Z ├─■─┤ H ├┤ H ├─■─┤ H ├┤ Z ├─■─┤ H ├┤ H ├─■─┤ H ├┤ Z ├─■─»\n",
       "     ├───┤ │ ├───┤├───┤ │ ├───┤├───┤ │ ├───┤├───┤ │ ├───┤├───┤ │ ├───┤├───┤ │ »\n",
       "q_1: ┤ H ├─■─┤ H ├┤ Z ├─■─┤ H ├┤ H ├─■─┤ H ├┤ Z ├─■─┤ H ├┤ H ├─■─┤ H ├┤ Z ├─■─»\n",
       "     └───┘   └───┘└───┘   └───┘└───┘   └───┘└───┘   └───┘└───┘   └───┘└───┘   »\n",
       "c: 2/═════════════════════════════════════════════════════════════════════════»\n",
       "                                                                              »\n",
       "«     ┌───┐\n",
       "«q_0: ┤ H ├\n",
       "«     ├───┤\n",
       "«q_1: ┤ H ├\n",
       "«     └───┘\n",
       "«c: 2/═════\n",
       "«          </pre>"
      ],
      "text/plain": [
       "     ┌───┐   ┌───┐┌───┐   ┌───┐┌───┐   ┌───┐┌───┐   ┌───┐┌───┐   ┌───┐┌───┐   »\n",
       "q_0: ┤ H ├─■─┤ H ├┤ Z ├─■─┤ H ├┤ H ├─■─┤ H ├┤ Z ├─■─┤ H ├┤ H ├─■─┤ H ├┤ Z ├─■─»\n",
       "     ├───┤ │ ├───┤├───┤ │ ├───┤├───┤ │ ├───┤├───┤ │ ├───┤├───┤ │ ├───┤├───┤ │ »\n",
       "q_1: ┤ H ├─■─┤ H ├┤ Z ├─■─┤ H ├┤ H ├─■─┤ H ├┤ Z ├─■─┤ H ├┤ H ├─■─┤ H ├┤ Z ├─■─»\n",
       "     └───┘   └───┘└───┘   └───┘└───┘   └───┘└───┘   └───┘└───┘   └───┘└───┘   »\n",
       "c: 2/═════════════════════════════════════════════════════════════════════════»\n",
       "                                                                              »\n",
       "«     ┌───┐\n",
       "«q_0: ┤ H ├\n",
       "«     ├───┤\n",
       "«q_1: ┤ H ├\n",
       "«     └───┘\n",
       "«c: 2/═════\n",
       "«          "
      ]
     },
     "execution_count": 16,
     "metadata": {},
     "output_type": "execute_result"
    }
   ],
   "source": [
    "grover_circ.draw()"
   ]
  },
  {
   "cell_type": "code",
   "execution_count": 17,
   "id": "2589b239-feaf-403d-98ef-e9787db8d487",
   "metadata": {},
   "outputs": [
    {
     "data": {
      "text/plain": [
       "<qiskit.circuit.instructionset.InstructionSet at 0x7f8cba1db1f0>"
      ]
     },
     "execution_count": 17,
     "metadata": {},
     "output_type": "execute_result"
    }
   ],
   "source": [
    "# Add Measurements\n",
    "\n",
    "grover_circ.measure(qreg_q[0], creg_c[0])\n",
    "grover_circ.measure(qreg_q[1], creg_c[1])"
   ]
  },
  {
   "cell_type": "markdown",
   "id": "3c6d26ca-72e2-4aad-aa90-fe56574216a4",
   "metadata": {},
   "source": [
    "### Running the Circuit and Results\n",
    "\n",
    "We can now run and visualize the results of the circuit the same way that we did before. Remember, this circuit is trying to search for the |11> state, so we are expecting to find that state the majority of the times we run the circuit."
   ]
  },
  {
   "cell_type": "code",
   "execution_count": 18,
   "id": "3d591d8c-d4af-4abf-bb71-2f6cfbfd4bd7",
   "metadata": {},
   "outputs": [
    {
     "name": "stdout",
     "output_type": "stream",
     "text": [
      "Job Status: job has successfully run\n"
     ]
    }
   ],
   "source": [
    "# Execute and get counts\n",
    "\n",
    "job2 = execute(grover_circ, backend=quito, shots=1024, optimization_level=3)\n",
    "job_monitor(job2, interval=2)"
   ]
  },
  {
   "cell_type": "code",
   "execution_count": 19,
   "id": "acc4dff6-dd91-4fc0-afd0-4f55884861ec",
   "metadata": {},
   "outputs": [
    {
     "name": "stdout",
     "output_type": "stream",
     "text": [
      "{'00': 6, '01': 43, '10': 55, '11': 920}\n"
     ]
    }
   ],
   "source": [
    "result2 = job2.result()\n",
    "counts2 = result2.get_counts(grover_circ)\n",
    "print(counts2)"
   ]
  },
  {
   "cell_type": "code",
   "execution_count": 20,
   "id": "efc5bea9-b854-416a-80c3-aa77ac4f8f15",
   "metadata": {},
   "outputs": [
    {
     "data": {
      "image/png": "[encoded data removed]",
      "text/plain": [
       "<Figure size 504x360 with 1 Axes>"
      ]
     },
     "execution_count": 20,
     "metadata": {},
     "output_type": "execute_result"
    }
   ],
   "source": [
    "plot_histogram(counts2)"
   ]
  },
  {
   "cell_type": "markdown",
   "id": "9bab8f10-adef-404f-b9c5-8b05d29762eb",
   "metadata": {},
   "source": [
    "## Summary and Further Reading\n",
    "\n",
    "We see from this histogram that we did in fact find the desired state, and it was slightly more accurate than before. As mentioned previously, this is not entirely reliable because of the decoherence effects faced by quantum computers. However, this does show the general process that a Grover's Algorithm proceeds through during its search. The steps are clearly broken down into their circuit elements, and the results show the desirable outcome was achieved.\n",
    "\n",
    "This same concept can be applied to broader and more interesting topics. One example of this is found in a paper listed here: https://arxiv.org/abs/2010.00649. This High Energy Experimental group working with data from the ATLAS group and the LHC is using Grover's Algorithm to search for rare instances of Higgs Boson production from 4 lepton events. The data sets released from ATLAS are unstructured, and so this group thought to use Grover's Algorithm to better search for the desired production events. Their implementation is also through a Jupyter Notebook, and so it will hopefully be easier to understand after reviewing our much more basic example. [2]\n",
    "\n",
    "### References:\n",
    "\n",
    "[1] https://qiskit.org/textbook/ch-algorithms/grover.html\n",
    "\n",
    "[2] https://arxiv.org/abs/2010.00649"
   ]
  }
 ],
 "metadata": {
  "kernelspec": {
   "display_name": "Python 3 (ipykernel)",
   "language": "python",
   "name": "python3"
  },
  "language_info": {
   "codemirror_mode": {
    "name": "ipython",
    "version": 3
   },
   "file_extension": ".py",
   "mimetype": "text/x-python",
   "name": "python",
   "nbconvert_exporter": "python",
   "pygments_lexer": "ipython3",
   "version": "3.9.5"
  },
  "widgets": {
   "application/vnd.jupyter.widget-state+json": {
    "state": {},
    "version_major": 2,
    "version_minor": 0
   }
  }
 },
 "nbformat": 4,
 "nbformat_minor": 5
}
