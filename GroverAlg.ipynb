{
 "cells": [
  {
   "cell_type": "markdown",
   "id": "932668b6-1ae3-4093-a4be-11c869bc6faf",
   "metadata": {},
   "source": [
    "## Grover's Algorithm\n",
    "\n",
    "This notebook serves to implement Grover's Algorithm in a Jupyter Notebook. Grover's Algorithm is known as the quantum search algorithm. It is used to find a unique input to a black box function that produces a particular output value, or set of output values. Here we are creating a two qubit algorithm, but higher level algorithms are possible.\n",
    "\n"
   ]
  },
  {
   "cell_type": "markdown",
   "id": "80905d96-7b36-46b9-a22a-3449abb15823",
   "metadata": {},
   "source": [
    "### Imports\n",
    "\n",
    "First, we begin with a series of import statements. We need a number of general Python tools for plotting and analysis. We also need a number of tools from qiskit to create, run, and visualize our quantum circuit. "
   ]
  },
  {
   "cell_type": "code",
   "execution_count": 1,
   "id": "d2420e54-a40c-4af1-bc64-056db1093486",
   "metadata": {},
   "outputs": [],
   "source": [
    "# Python Tools\n",
    "\n",
    "import matplotlib.pyplot as plt\n",
    "import numpy as np\n",
    "import time\n",
    "import math\n",
    "\n",
    "# Qiskit Tools\n",
    "\n",
    "from qiskit import IBMQ, Aer, QuantumCircuit, ClassicalRegister, QuantumRegister, execute, transpile\n",
    "from qiskit.providers.ibmq import least_busy\n",
    "from qiskit.visualization import plot_histogram\n",
    "from qiskit.providers.aer import QasmSimulator\n",
    "from qiskit.tools.visualization import circuit_drawer\n",
    "from qiskit.tools.monitor import job_monitor, backend_monitor, backend_overview\n",
    "from qiskit.providers.aer import noise"
   ]
  },
  {
   "cell_type": "code",
   "execution_count": 2,
   "id": "f2816259-1580-4194-9124-e74c8047cb6c",
   "metadata": {},
   "outputs": [],
   "source": [
    "# Set devices, if using a real device\n",
    "IBMQ.delete_account()\n",
    "IBMQ.save_account('a41724e133deeffc5b4a8b980d7a142be6d1662732f3006d8a6549970a22c90d54dd808152026a4325dc1929f65c017e4ca7d6c394b5e11631bb97dbfaf41f81')\n",
    "IBMQ.load_account()\n",
    "\n",
    "provider = IBMQ.get_provider('ibm-q')\n",
    "quito = provider.get_backend('ibmq_santiago')\n",
    "\n"
   ]
  },
  {
   "cell_type": "markdown",
   "id": "4d89e6f7-6521-494b-a7e4-bc5714339933",
   "metadata": {},
   "source": [
    "### Creating the Circuit\n",
    "\n",
    "Now that the imports are complete, we want to initialize our quantum circuit. In this circuit, we want to make a state for the algorithm to recover. We begin by intitializing a two qubit circuit sent into a superposition by two Haddamard gates."
   ]
  },
  {
   "cell_type": "code",
   "execution_count": 3,
   "id": "edc7ec5b-4c66-4b6f-9fc6-f18f6768cf23",
   "metadata": {},
   "outputs": [
    {
     "data": {
      "text/plain": [
       "<qiskit.circuit.instructionset.InstructionSet at 0x7f2c007489d0>"
      ]
     },
     "execution_count": 3,
     "metadata": {},
     "output_type": "execute_result"
    }
   ],
   "source": [
    "#Create and set up the intial circuit\n",
    "qreg_q = QuantumRegister(2, 'q')\n",
    "creg_c = ClassicalRegister(2, 'c')\n",
    "grover_circ = QuantumCircuit(qreg_q, creg_c)\n",
    "grover_circ.h([0,1])"
   ]
  },
  {
   "cell_type": "code",
   "execution_count": 4,
   "id": "0dd1dbea-3ab4-4859-9347-b512c4ffb817",
   "metadata": {},
   "outputs": [
    {
     "data": {
      "text/html": [
       "<pre style=\"word-wrap: normal;white-space: pre;background: #fff0;line-height: 1.1;font-family: &quot;Courier New&quot;,Courier,monospace\">     ┌───┐\n",
       "q_0: ┤ H ├\n",
       "     ├───┤\n",
       "q_1: ┤ H ├\n",
       "     └───┘\n",
       "c: 2/═════\n",
       "          </pre>"
      ],
      "text/plain": [
       "     ┌───┐\n",
       "q_0: ┤ H ├\n",
       "     ├───┤\n",
       "q_1: ┤ H ├\n",
       "     └───┘\n",
       "c: 2/═════\n",
       "          "
      ]
     },
     "execution_count": 4,
     "metadata": {},
     "output_type": "execute_result"
    }
   ],
   "source": [
    "#Visualize the circuit\n",
    "grover_circ.draw()"
   ]
  },
  {
   "cell_type": "markdown",
   "id": "b805818a-e2fa-47ca-961a-8c54b858d49f",
   "metadata": {},
   "source": [
    "### Applying the Oracle Matrix and the Diffuser\n",
    "\n",
    "Now we need to add the components onto this circuit to make it function as a two qubit Grover's Algorithm. These components are the Oracle Matrix and the Diffuser. Starting with the Oracle Matrix, which in our case is a CZ gate:"
   ]
  },
  {
   "cell_type": "code",
   "execution_count": 5,
   "id": "7fe5211c-0e52-4d1c-bb2e-2533582f0478",
   "metadata": {},
   "outputs": [
    {
     "data": {
      "text/plain": [
       "<qiskit.circuit.instructionset.InstructionSet at 0x7f2c007489a0>"
      ]
     },
     "execution_count": 5,
     "metadata": {},
     "output_type": "execute_result"
    }
   ],
   "source": [
    "# Create the CZ gate\n",
    "\n",
    "grover_circ.cz(0,1)"
   ]
  },
  {
   "cell_type": "code",
   "execution_count": 6,
   "id": "99f4db92-d17e-407b-a49e-ab8d3f78428c",
   "metadata": {},
   "outputs": [
    {
     "data": {
      "text/plain": [
       "(<qiskit.circuit.library.standard_gates.z.CZGate at 0x7f2c00748ca0>,\n",
       " [Qubit(QuantumRegister(2, 'q'), 0), Qubit(QuantumRegister(2, 'q'), 1)],\n",
       " [])"
      ]
     },
     "execution_count": 6,
     "metadata": {},
     "output_type": "execute_result"
    }
   ],
   "source": [
    "grover_circ.data.pop()"
   ]
  },
  {
   "cell_type": "code",
   "execution_count": 7,
   "id": "57dbbca0-ef00-4a02-b0b0-f9f54790bdd4",
   "metadata": {},
   "outputs": [
    {
     "data": {
      "text/plain": [
       "<qiskit.circuit.instructionset.InstructionSet at 0x7f2bc61a8610>"
      ]
     },
     "execution_count": 7,
     "metadata": {},
     "output_type": "execute_result"
    }
   ],
   "source": [
    "#Apply the Diffuser\n",
    "\n",
    "grover_circ.h([0,1])\n",
    "grover_circ.z([0,1])\n",
    "grover_circ.cz(0,1)\n",
    "grover_circ.h([0,1])"
   ]
  },
  {
   "cell_type": "code",
   "execution_count": 8,
   "id": "9588c4d0-4887-45af-b092-c1f96c332c8b",
   "metadata": {},
   "outputs": [
    {
     "name": "stdout",
     "output_type": "stream",
     "text": [
      "Job Status: job has successfully run\n"
     ]
    }
   ],
   "source": [
    "# Execute and get counts\n",
    "\n",
    "job = execute(grover_circ, backend = quito, shots = 1024, optimization_level = 3)\n",
    "from qiskit.tools.monitor import job_monitor\n",
    "job_monitor(job, interval = 2)"
   ]
  },
  {
   "cell_type": "code",
   "execution_count": 9,
   "id": "ecdb7a2e-641e-402f-9eb3-3d72f8f1723f",
   "metadata": {},
   "outputs": [
    {
     "name": "stdout",
     "output_type": "stream",
     "text": [
      "{'00': 1024}\n"
     ]
    }
   ],
   "source": [
    "result = job.result()\n",
    "counts = result.get_counts(grover_circ)\n",
    "print(counts)"
   ]
  },
  {
   "cell_type": "code",
   "execution_count": 10,
   "id": "29c2c65c-f5ab-4d98-b655-413955826d3f",
   "metadata": {},
   "outputs": [
    {
     "data": {
      "image/png": "[encoded data removed]",
      "text/plain": [
       "<Figure size 504x360 with 1 Axes>"
      ]
     },
     "execution_count": 10,
     "metadata": {},
     "output_type": "execute_result"
    }
   ],
   "source": [
    "plot_histogram(counts)"
   ]
  },
  {
   "cell_type": "code",
   "execution_count": null,
   "id": "f14e1281-f2d2-4d9d-a87e-bf98e2e8bd0d",
   "metadata": {},
   "outputs": [],
   "source": []
  }
 ],
 "metadata": {
  "kernelspec": {
   "display_name": "Python 3 (ipykernel)",
   "language": "python",
   "name": "python3"
  },
  "language_info": {
   "codemirror_mode": {
    "name": "ipython",
    "version": 3
   },
   "file_extension": ".py",
   "mimetype": "text/x-python",
   "name": "python",
   "nbconvert_exporter": "python",
   "pygments_lexer": "ipython3",
   "version": "3.9.5"
  }
 },
 "nbformat": 4,
 "nbformat_minor": 5
}
